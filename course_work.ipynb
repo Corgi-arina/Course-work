{
 "cells": [
  {
   "cell_type": "code",
   "execution_count": 1,
   "id": "5f28aec8-990e-4f2f-8cfa-d5e1a7341b98",
   "metadata": {},
   "outputs": [],
   "source": [
    "import numpy as np\n",
    "import time\n",
    "import random\n",
    "from itertools import combinations"
   ]
  },
  {
   "cell_type": "code",
   "execution_count": 3,
   "id": "3d5e16a9-0333-4a6e-b2e6-471b2813e600",
   "metadata": {},
   "outputs": [],
   "source": [
    "start_time = time.time()"
   ]
  },
  {
   "cell_type": "code",
   "execution_count": 5,
   "id": "1d6aeb89-7ed7-434a-bf15-599fa0fb086c",
   "metadata": {},
   "outputs": [
    {
     "name": "stdout",
     "output_type": "stream",
     "text": [
      "количество объектов в обучающей и тестовой выборках:\n",
      "0 :  133  +  35  =  168\n",
      "1 :  122  +  35  =  157\n",
      "2 :  142  +  35  =  177\n",
      "3 :  147  +  35  =  182\n",
      "4 :  144  +  35  =  179\n",
      "5 :  145  +  35  =  180\n",
      "6 :  142  +  35  =  177\n",
      "7 :  143  +  35  =  178\n",
      "8 :  139  +  35  =  174\n",
      "9 :  145  +  35  =  180\n"
     ]
    }
   ],
   "source": [
    "# загружаем датасет \n",
    "\n",
    "from sklearn.datasets import load_digits\n",
    "dataset = load_digits()\n",
    "\n",
    "train = np.zeros(shape = (dataset.data.shape[0], dataset.data.shape[1]), dtype = bool)\n",
    "y_train = np.zeros(dataset.data.shape[0])\n",
    "for i in range(dataset.data.shape[0]):\n",
    "    image = dataset.data[i]\n",
    "    image = np.array(image)\n",
    "    binary_image = (image > 8).astype(bool)      \n",
    "    train[i] = binary_image\n",
    "    y_train[i] = dataset.target[i]\n",
    "\n",
    "#разбиваем на классы\n",
    "number = {}\n",
    "for i in range(10):\n",
    "    number[i] = train[y_train == i]\n",
    "\n",
    "#делаем классы уникальными \n",
    "for i in range(10):\n",
    "    number[i] = np.unique(number[i], return_counts = False, axis = 0)\n",
    "\n",
    "#делим на train и test\n",
    "number_train = {}\n",
    "number_test = {}\n",
    "first_dimensions = np.array([arr.shape[0] for key, arr in number.items()])\n",
    "p = round(np.sum(first_dimensions) * 0.2 / 10)  # выделаем 20 процентов от всей выборки на тестовую выборку\n",
    "print(\"количество объектов в обучающей и тестовой выборках:\")\n",
    "for i in range(10):\n",
    "    length = number[i].shape[0]\n",
    "    number_train[i] = number[i][: length - p, :]\n",
    "    number_test[i] = number[i][length - p : length, :]\n",
    "    print(i, \": \", number_train[i].shape[0], \" + \", number_test[i].shape[0], \" = \", number_train[i].shape[0] + number_test[i].shape[0])\n"
   ]
  },
  {
   "cell_type": "code",
   "execution_count": 6,
   "id": "65b0afcc-b17e-4109-b8b2-ef49ab4c8a50",
   "metadata": {},
   "outputs": [
    {
     "name": "stdout",
     "output_type": "stream",
     "text": [
      "C_nmL  (882785, 64)\n"
     ]
    }
   ],
   "source": [
    "#строим матрицу C_nmL\n",
    "mas = np.zeros(train.shape[1], dtype=bool)\n",
    "for i in range(0, 9):\n",
    "    for j in range(i+1, 10):\n",
    "        mas_xor = np.bitwise_xor(number_train[i][:, np.newaxis, :], number_train[j][np.newaxis, :, :])\n",
    "        mas_xor = mas_xor.reshape(-1, number_train[0].shape[1])\n",
    "        mas = np.vstack((mas, mas_xor))\n",
    "        mas = np.unique(mas, return_counts = False, axis = 0)\n",
    "\n",
    "# удаляем первый ненужный элемент\n",
    "maska = np.ones(mas.shape[0], dtype=bool)\n",
    "maska[0] = False\n",
    "mas = mas[maska]\n",
    "print(\"C_nmL \", mas.shape)"
   ]
  },
  {
   "cell_type": "code",
   "execution_count": 8,
   "id": "87cfa65f-a7a1-456d-95de-80dd6fee7ad2",
   "metadata": {},
   "outputs": [
    {
     "data": {
      "text/plain": [
       "(699656, 64)"
      ]
     },
     "execution_count": 8,
     "metadata": {},
     "output_type": "execute_result"
    }
   ],
   "source": [
    "# удаляем старший из пары\n",
    "bit_mas = mas.astype(np.uint8)   # массив в 0 и 1\n",
    "powers = 1 << np.arange(63, -1, -1, dtype=np.uint64)    # веткор весов каждого разряда\n",
    "result = np.dot(bit_mas, powers)   # массив из чисел в 10 системе \n",
    "to_remove = []  # для чисел из пары, которые мы удаляем\n",
    "mask = np.zeros(shape = (64, 64), dtype = bool)\n",
    "for i in range(64):\n",
    "    mask[i][i] = True\n",
    "    \n",
    "for i in range(mas.shape[0]):\n",
    "    bit_x = mas[i]\n",
    "    chislo_x = result[i]\n",
    "    neighbors = np.bitwise_xor(bit_x, mask)   # True-False-битовое представление соседей\n",
    "    neighbors = neighbors.astype(np.uint8)    # 0-1-битовое представление соседей\n",
    "    sosedy = np.dot(neighbors, powers)    # числовое представление соседей\n",
    "    for j in range(neighbors.shape[0]):\n",
    "        if sosedy[j] in result:\n",
    "            if sosedy[j] > chislo_x and sosedy[j] not in to_remove:\n",
    "                to_remove.append(sosedy[j])\n",
    "            elif sosedy[j] < chislo_x and chislo_x not in to_remove:\n",
    "                to_remove.append(chislo_x)\n",
    "new_mask = np.isin(result, to_remove, invert=True)\n",
    "otvet = result[new_mask]\n",
    "powers = 1 << np.arange(63, -1, -1, dtype=np.uint64) \n",
    "bit_otvet = ((otvet[:, None] & powers) > 0)\n",
    "bit_otvet.shape"
   ]
  },
  {
   "cell_type": "code",
   "execution_count": 43,
   "id": "97245d92-5ced-4877-a881-2c56fa0776f0",
   "metadata": {},
   "outputs": [
    {
     "name": "stdout",
     "output_type": "stream",
     "text": [
      "C_nmL после удаления нулевых столбцов:  (699656, 50)\n",
      "т.е. удалено  14  столбцов\n"
     ]
    }
   ],
   "source": [
    "# удаляем нулевые столбцы, которые точно не войдут в тест\n",
    "vector = bit_otvet.sum(axis=0)\n",
    "stolbs = np.where(vector == 0)\n",
    "stolbs = np.array(stolbs)\n",
    "new_mas = np.delete(bit_otvet, stolbs, axis=1)\n",
    "vector = new_mas.sum(axis=0)\n",
    "print(\"C_nmL после удаления нулевых столбцов: \", new_mas.shape)\n",
    "print(\"т.е. удалено \", stolbs.shape[1], \" столбцов\")"
   ]
  },
  {
   "cell_type": "code",
   "execution_count": 10,
   "id": "03676ebf-2934-422f-802a-1e844e5b82f6",
   "metadata": {},
   "outputs": [
    {
     "name": "stdout",
     "output_type": "stream",
     "text": [
      "\n",
      "выбранные строки:  [ 7 14 15 16 17 20 21 23 27 29 32 33 34 41 47]\n"
     ]
    }
   ],
   "source": [
    "# находим первые 15 столбцов с максимальным количеством единиц, которые будем удалять\n",
    "num = 0\n",
    "m, n = new_mas.shape\n",
    "uncovered_rows = set(range(m))\n",
    "selected_columns = []\n",
    "while uncovered_rows and num != 15:\n",
    "    max_cover = -1\n",
    "    best_col = -1\n",
    "    for j in range(n):\n",
    "        covered_rows = set(np.where(new_mas[:, j] == 1)[0])\n",
    "        new_coverage = uncovered_rows.intersection(covered_rows)\n",
    "        if len(new_coverage) > max_cover:\n",
    "            max_cover = len(new_coverage)\n",
    "            best_col = j\n",
    "    if best_col == -1:\n",
    "        print(\"Не удалось покрыть оставшиеся строки\\n\")\n",
    "        break\n",
    "    selected_columns.append(best_col)\n",
    "    num += 1\n",
    "    covered_rows = set(np.where(new_mas[:, best_col] == 1)[0])\n",
    "    uncovered_rows -= covered_rows\n",
    "    if len(uncovered_rows) == 0:\n",
    "        break\n",
    "\n",
    "\n",
    "selected_columns = np.sort(np.array(selected_columns))\n",
    "print(\"\\nвыбранные строки: \", selected_columns)\n",
    "\n",
    "covered_rows = set(range(m))\n",
    "covered_rows -= uncovered_rows\n",
    "covered_rows = np.array(list(covered_rows))"
   ]
  },
  {
   "cell_type": "code",
   "execution_count": 11,
   "id": "f40090ce-dfb9-404d-8d73-513a8dec4b51",
   "metadata": {},
   "outputs": [
    {
     "name": "stdout",
     "output_type": "stream",
     "text": [
      "остаток от C_nmL  (14, 35)\n"
     ]
    }
   ],
   "source": [
    "# Удаляем строки\n",
    "arr_new = np.delete(new_mas, covered_rows, axis=0)\n",
    "# Удаляем столбцы\n",
    "arr_new = np.delete(arr_new, selected_columns, axis=1)\n",
    "print(\"остаток от C_nmL \",arr_new.shape)"
   ]
  },
  {
   "cell_type": "code",
   "execution_count": 12,
   "id": "c4af5a9c-e3a0-4aa9-82eb-03dff21b2cc2",
   "metadata": {},
   "outputs": [
    {
     "name": "stdout",
     "output_type": "stream",
     "text": [
      "всего:  1156\n"
     ]
    }
   ],
   "source": [
    "# перебором находим остаток покрытия\n",
    "m, n = arr_new.shape\n",
    "columns = range(n)\n",
    "all_solutions = []\n",
    "for t in range(1, 10):\n",
    "    for J in combinations(columns, t):\n",
    "        sel_mas = arr_new[:, J]\n",
    "        row_sums = sel_mas.sum(axis=1)\n",
    "        has_zero = np.any(row_sums == 0)        # значение haz_zero: Fasle = нет 0 -> это покрытие \n",
    "                                                                   # True = усть 0 -> это НЕ покрытие \n",
    "        if not has_zero :\n",
    "            J_set = set(J)\n",
    "            flag = True\n",
    "            for k in range(len(all_solutions)):\n",
    "                k_set = set(all_solutions[k])\n",
    "                if k_set.issubset(J_set):\n",
    "                    flag = False\n",
    "            if flag:\n",
    "                J_list = list(J)\n",
    "                J_list = sorted(J_list)\n",
    "                all_solutions.append(J_list)    \n",
    "\n",
    "print(\"всего: \", len(all_solutions))\n"
   ]
  },
  {
   "cell_type": "code",
   "execution_count": 13,
   "id": "ca0c12d4-1713-48c6-a551-1502c86cb12d",
   "metadata": {},
   "outputs": [],
   "source": [
    "#сохраняем переборные части теста \n",
    "all_solution = np.array(all_solutions, dtype=\"object\")\n",
    "np.save('perebor_part.npy', all_solution)\n",
    "\n",
    "#загружаем назад, если до этого устали \n",
    "all_solutions = np.load('perebor_part.npy', allow_pickle=True)\n",
    "for i in range(len(all_solutions)):\n",
    "    all_solutions[i] = list(all_solutions[i])\n"
   ]
  },
  {
   "cell_type": "code",
   "execution_count": 15,
   "id": "7e7c9a92-1be7-4e23-baaf-419ae6ae493e",
   "metadata": {},
   "outputs": [
    {
     "data": {
      "text/plain": [
       "True"
      ]
     },
     "execution_count": 15,
     "metadata": {},
     "output_type": "execute_result"
    }
   ],
   "source": [
    "#создаем бинарную матрицу тестов, где True стоит в столбцах, которые входят в тест\n",
    "dim = train[0].shape[0] - stolbs.shape[1] - selected_columns.shape[0]\n",
    "matrix = np.zeros(shape = (all_solutions.shape[0], dim))\n",
    "for i in range(all_solutions.shape[0]):\n",
    "    matrix[i][all_solutions[i]] = True\n",
    "\n",
    "# вставляем столбцы из 1 на позиции selected_columns\n",
    "for i in range(selected_columns.shape[0]):\n",
    "    matrix = np.insert(matrix, selected_columns[i], 1, axis=1)\n",
    "\n",
    "test = np.zeros(shape = (all_solutions.shape[0], train[0].shape[0]))   \n",
    "full_range = np.arange(train[0].shape[0])\n",
    "dop_stolbs = np.setdiff1d(full_range, stolbs)\n",
    "test[:, dop_stolbs] = matrix\n",
    "test = test.astype(bool)\n",
    "\n",
    "# проверка\n",
    "flag = True\n",
    "for i in range(test.shape[0]):\n",
    "    ind = test[i]\n",
    "    sel_mas = mas[:, ind]\n",
    "    vector = sel_mas.sum(axis = 1)\n",
    "    has_zero = np.any(vector == 0)\n",
    "    if has_zero :\n",
    "        flag = False\n",
    "flag\n",
    "\n",
    "# True - это тесты\n",
    "# False - это НЕ тесты"
   ]
  },
  {
   "cell_type": "code",
   "execution_count": 16,
   "id": "159e33d8-28ec-47c9-80f0-db063e8cb284",
   "metadata": {},
   "outputs": [],
   "source": [
    "# сохраняем финальный вариант тестов\n",
    "solution = np.array(test)\n",
    "np.save('test.npy', solution)"
   ]
  },
  {
   "cell_type": "code",
   "execution_count": 17,
   "id": "ddc60b6e-3560-4e47-97c6-96b4a7093021",
   "metadata": {},
   "outputs": [],
   "source": [
    "# Функция для определения класса для одного тестового объекта\n",
    "def classify_sample(sample, train_data):\n",
    "    min_distance = np.inf\n",
    "    predicted_class = None\n",
    "    for class_label, class_samples in train_data.items():\n",
    "        distances = np.linalg.norm(np.bitwise_xor(class_samples, sample), axis=1)\n",
    "        mean_distance = np.mean(distances)\n",
    "        if mean_distance < min_distance:\n",
    "            min_distance = mean_distance\n",
    "            predicted_class = class_label\n",
    "    return predicted_class\n"
   ]
  },
  {
   "cell_type": "code",
   "execution_count": 18,
   "id": "20d4e3a4-f6e6-447b-902b-47c47360cce8",
   "metadata": {},
   "outputs": [],
   "source": [
    "# Классификация всей тестовой выборки\n",
    "y_pred = []\n",
    "for class_label, samples in number_test.items():\n",
    "    for i, sample in enumerate(samples):\n",
    "        predicted = classify_sample(sample, number_train)\n",
    "        y_pred.append(predicted)\n",
    "        "
   ]
  },
  {
   "cell_type": "code",
   "execution_count": 19,
   "id": "29f7789c-d81b-49a9-93bb-50aa50fbe90f",
   "metadata": {},
   "outputs": [
    {
     "name": "stdout",
     "output_type": "stream",
     "text": [
      "accuracy =  0.7342857142857143\n"
     ]
    }
   ],
   "source": [
    "# метрика качества\n",
    "num = np.arange(10)\n",
    "y_true = np.repeat(num, number_test[0].shape[0])\n",
    "print(\"accuracy 2 = \", np.sum(y_true == y_pred) / y_true.shape[0])"
   ]
  },
  {
   "cell_type": "code",
   "execution_count": 20,
   "id": "eb1e1a63-8db7-488c-b68d-4b45fadad155",
   "metadata": {},
   "outputs": [
    {
     "name": "stdout",
     "output_type": "stream",
     "text": [
      "Время выполнения программы: 42715.38802289963 секунд\n"
     ]
    }
   ],
   "source": [
    "end_time = time.time() \n",
    "execution_time = end_time - start_time\n",
    "print(f\"Время выполнения программы: {execution_time} секунд\")"
   ]
  },
  {
   "cell_type": "code",
   "execution_count": 35,
   "id": "5b2c4e29-b1e8-4f92-9897-03c8aff7b7bb",
   "metadata": {},
   "outputs": [
    {
     "name": "stdout",
     "output_type": "stream",
     "text": [
      "accuracy 2 =  0.7342857142857143\n"
     ]
    }
   ],
   "source": [
    "#находим метрику качества вторым способом\n",
    "num = np.arange(10)\n",
    "y_true = np.repeat(num, number_test[0].shape[0])\n",
    "print(\"accuracy 2 = \", np.sum(y_true == y_pred) / y_true.shape[0])"
   ]
  },
  {
   "cell_type": "code",
   "execution_count": 39,
   "id": "7f1e03ab-bf2d-4d9f-b411-4133748b2384",
   "metadata": {},
   "outputs": [
    {
     "name": "stdout",
     "output_type": "stream",
     "text": [
      "accuracy 1 =  0.4657142857142857\n"
     ]
    }
   ],
   "source": [
    "#находим метрику качества первым способом\n",
    "y_pred = np.zeros(number_test[0].shape[0] * 10)\n",
    "num = np.arange(10)\n",
    "y_true = np.repeat(num, number_test[0].shape[0])\n",
    "for i in range(10):\n",
    "    for j in range(number_test[i].shape[0]):\n",
    "        vector =  np.zeros(10)\n",
    "        for k in range(test.shape[0]):\n",
    "            maska = number_test[i][j][test[k]]\n",
    "            for h in range(10):\n",
    "                part = number_train[h][:, test[k]]\n",
    "                result = np.any(np.all(part == maska, axis=1))\n",
    "                if result:\n",
    "                    vector[h] += 1\n",
    "        for h in range(10):\n",
    "            vector[h] /= number_train[h].shape[0]\n",
    "        mx = np.max(vector)\n",
    "        count_max = np.sum(vector == mx)\n",
    "        poz = np.argmax(vector)\n",
    "        if count_max == 1 and poz == i:\n",
    "            y_pred[i*number_test[0].shape[0] + j] = i\n",
    "        elif mx == i:\n",
    "            y_pred[i*number_test[0].shape[0] + j] = i\n",
    "        else:\n",
    "            y_pred[i*number_test[0].shape[0] + j] = poz\n",
    "print(\"accuracy 1 = \", np.sum(y_true == y_pred) / y_true.shape[0])"
   ]
  },
  {
   "cell_type": "code",
   "execution_count": null,
   "id": "8fbed2a3-f861-437f-9ae0-001286b538c7",
   "metadata": {},
   "outputs": [],
   "source": []
  }
 ],
 "metadata": {
  "kernelspec": {
   "display_name": "Python [conda env:base] *",
   "language": "python",
   "name": "conda-base-py"
  },
  "language_info": {
   "codemirror_mode": {
    "name": "ipython",
    "version": 3
   },
   "file_extension": ".py",
   "mimetype": "text/x-python",
   "name": "python",
   "nbconvert_exporter": "python",
   "pygments_lexer": "ipython3",
   "version": "3.9.20"
  }
 },
 "nbformat": 4,
 "nbformat_minor": 5
}
